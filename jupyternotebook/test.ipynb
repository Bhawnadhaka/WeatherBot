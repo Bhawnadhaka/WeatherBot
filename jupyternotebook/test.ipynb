{
 "cells": [
  {
   "cell_type": "code",
   "execution_count": null,
   "id": "9646de06",
   "metadata": {},
   "outputs": [
    {
     "ename": "",
     "evalue": "",
     "output_type": "error",
     "traceback": [
      "\u001b[1;31mRunning cells with 'weatherbot (Python 3.7.12)' requires the ipykernel package.\n",
      "\u001b[1;31mInstall 'ipykernel' into the Python environment. \n",
      "\u001b[1;31mCommand: 'conda install -p c:\\Users\\SUN\\OneDrive\\Desktop\\Projects\\WeatherBot\\weatherbot ipykernel --update-deps --force-reinstall'"
     ]
    }
   ],
   "source": [
    "a=10\n",
    "b=20\n",
    "c=a+b\n",
    "print(c)"
   ]
  },
  {
   "cell_type": "code",
   "execution_count": null,
   "id": "d6faf9b7",
   "metadata": {},
   "outputs": [],
   "source": [
    "import logging\n",
    "logging.warning('Watch out!')  # will print a message to the console\n",
    "logging.error('I told you so')  # will not print anything"
   ]
  },
  {
   "cell_type": "code",
   "execution_count": null,
   "id": "a09253af",
   "metadata": {},
   "outputs": [],
   "source": [
    "CRITICAL 50\n",
    "\n",
    "ERROR 40\n",
    "\n",
    "WARNING 30\n",
    "\n",
    "INFO 20\n",
    "\n",
    "DEBUG 10\n",
    "\n",
    "NOTSET 0"
   ]
  },
  {
   "cell_type": "code",
   "execution_count": null,
   "id": "2df771c9",
   "metadata": {},
   "outputs": [],
   "source": [
    "import logging\n",
    "logging.basicConfig(filename='example.log', encoding='utf-8', level=logging.DEBUG)\n",
    "logging.debug('This message should go to the log file')\n",
    "logging.info('So should this')\n",
    "logging.warning('And this, too')\n",
    "logging.error('And non-ASCII stuff, too, like Øresund and Malmö')"
   ]
  }
 ],
 "metadata": {
  "kernelspec": {
   "display_name": "weatherbot",
   "language": "python",
   "name": "python3"
  },
  "language_info": {
   "name": "python",
   "version": "3.7.16"
  }
 },
 "nbformat": 4,
 "nbformat_minor": 5
}
